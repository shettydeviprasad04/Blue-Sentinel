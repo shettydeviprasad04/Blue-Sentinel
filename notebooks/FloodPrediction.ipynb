{
 "cells": [
  {
   "cell_type": "code",
   "execution_count": 5,
   "metadata": {},
   "outputs": [
    {
     "name": "stdout",
     "output_type": "stream",
     "text": [
      "         Date  River Flow  Rainfall  Flood\n",
      "0  2020-01-01        1000        10      0\n",
      "1  2020-01-02        1200        20      0\n",
      "2  2020-01-03        1500        50      1\n",
      "3  2020-01-04        1100        30      0\n",
      "4  2020-01-05        1800        70      1\n",
      "              precision    recall  f1-score   support\n",
      "\n",
      "           0       1.00      1.00      1.00         1\n",
      "           1       1.00      1.00      1.00         1\n",
      "\n",
      "    accuracy                           1.00         2\n",
      "   macro avg       1.00      1.00      1.00         2\n",
      "weighted avg       1.00      1.00      1.00         2\n",
      "\n",
      "[[1 0]\n",
      " [0 1]]\n"
     ]
    },
    {
     "data": {
      "image/png": "[encoded data removed]",
      "text/plain": [
       "<Figure size 640x480 with 1 Axes>"
      ]
     },
     "metadata": {},
     "output_type": "display_data"
    }
   ],
   "source": [
    "# FloodDetection.ipynb\n",
    "\n",
    "# Import necessary libraries\n",
    "import pandas as pd\n",
    "import numpy as np\n",
    "import matplotlib.pyplot as plt\n",
    "import seaborn as sns\n",
    "from sklearn.model_selection import train_test_split\n",
    "from sklearn.ensemble import RandomForestClassifier\n",
    "from sklearn.metrics import classification_report, confusion_matrix\n",
    "import joblib\n",
    "\n",
    "# Load the dataset from a local file\n",
    "# Replace 'flood_data.csv' with the path to your actual dataset file\n",
    "data = pd.read_csv('../datasets/flood_data.csv')\n",
    "\n",
    "# Check the first few rows of the dataset to ensure it's loaded properly\n",
    "print(data.head())\n",
    "\n",
    "# Preprocessing the data\n",
    "data['Date'] = pd.to_datetime(data['Date'])  # Convert the 'Date' column to datetime format\n",
    "data.set_index('Date', inplace=True)  # Set 'Date' as the index\n",
    "\n",
    "# Feature Engineering\n",
    "data['Year'] = data.index.year\n",
    "data['Month'] = data.index.month\n",
    "data['Day'] = data.index.day\n",
    "\n",
    "# Define features (X) and target (y)\n",
    "X = data[['River Flow', 'Rainfall', 'Year', 'Month', 'Day']]  # Independent features\n",
    "y = data['Flood']  # Dependent variable (target)\n",
    "\n",
    "# Split the data into training and testing sets (70% for training, 30% for testing)\n",
    "X_train, X_test, y_train, y_test = train_test_split(X, y, test_size=0.3, random_state=42)\n",
    "\n",
    "# Train a Random Forest model\n",
    "model = RandomForestClassifier(n_estimators=100, random_state=42)\n",
    "model.fit(X_train, y_train)\n",
    "\n",
    "# Make predictions\n",
    "y_pred = model.predict(X_test)\n",
    "\n",
    "# Evaluate the model's performance\n",
    "print(classification_report(y_test, y_pred))\n",
    "print(confusion_matrix(y_test, y_pred))\n",
    "\n",
    "# Save the trained model for later use\n",
    "joblib.dump(model, '../backend/models/flood_model.pkl')\n",
    "\n",
    "# Plot feature importance to understand the most important features in flood prediction\n",
    "feature_importances = model.feature_importances_\n",
    "sns.barplot(x=X.columns, y=feature_importances)\n",
    "plt.title('Feature Importance')\n",
    "plt.show()\n"
   ]
  },
  {
   "cell_type": "code",
   "execution_count": null,
   "metadata": {},
   "outputs": [],
   "source": []
  }
 ],
 "metadata": {
  "kernelspec": {
   "display_name": "Python 3",
   "language": "python",
   "name": "python3"
  },
  "language_info": {
   "codemirror_mode": {
    "name": "ipython",
    "version": 3
   },
   "file_extension": ".py",
   "mimetype": "text/x-python",
   "name": "python",
   "nbconvert_exporter": "python",
   "pygments_lexer": "ipython3",
   "version": "3.11.3"
  }
 },
 "nbformat": 4,
 "nbformat_minor": 2
}
